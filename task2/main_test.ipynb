{
 "cells": [
  {
   "cell_type": "code",
   "execution_count": 10,
   "metadata": {},
   "outputs": [],
   "source": [
    "import os\n",
    "import sys\n",
    "import numpy as np\n",
    "import julius\n",
    "\n",
    "import torch\n",
    "import torchaudio\n",
    "\n",
    "sys.path.append('lib')\n",
    "from lib.Task2 import *"
   ]
  },
  {
   "cell_type": "code",
   "execution_count": 13,
   "metadata": {},
   "outputs": [],
   "source": [
    "from marg_network import Estimator\n",
    "from marg_postprocess import PostProcessor\n",
    "from marg_utils import *\n"
   ]
  },
  {
   "cell_type": "code",
   "execution_count": 3,
   "metadata": {},
   "outputs": [
    {
     "data": {
      "text/plain": [
       "<All keys matched successfully>"
      ]
     },
     "execution_count": 3,
     "metadata": {},
     "output_type": "execute_result"
    }
   ],
   "source": [
    "ckpt = torch.load('weights/marg_ckpt.pt')\n",
    "estimator = Estimator()\n",
    "estimator.load_state_dict(ckpt['net'])"
   ]
  },
  {
   "cell_type": "code",
   "execution_count": 4,
   "metadata": {},
   "outputs": [],
   "source": [
    "estimator.eval()\n",
    "estimator.reset_state()\n"
   ]
  },
  {
   "cell_type": "code",
   "execution_count": 5,
   "metadata": {},
   "outputs": [
    {
     "name": "stderr",
     "output_type": "stream",
     "text": [
      "/opt/conda/lib/python3.7/site-packages/ipykernel_launcher.py:18: UserWarning: To copy construct from a tensor, it is recommended to use sourceTensor.clone().detach() or sourceTensor.clone().detach().requires_grad_(True), rather than torch.tensor(sourceTensor).\n",
      "/opt/conda/lib/python3.7/site-packages/torchaudio/functional/functional.py:89: UserWarning: The use of pseudo complex type in spectrogram is now deprecated.Please migrate to native complex type by providing `return_complex=True`. Please refer to https://github.com/pytorch/audio/issues/1337 for more details about torchaudio's plan to migrate to native complex type.\n",
      "  \"The use of pseudo complex type in spectrogram is now deprecated.\"\n"
     ]
    }
   ],
   "source": [
    "set_num = 5\n",
    "drone_num = 3\n",
    "data_path = '../temp_data'\n",
    "answer_list = []\n",
    "for i in range(set_num):\n",
    "    sub_answer_list = []\n",
    "    for j in range(drone_num):\n",
    "        pred_cla_full = []\n",
    "        folder_name = 'set_0' + str(i+1)\n",
    "        file_name = 'set0' + str(i+1) + '_drone0' + str(j+1) + '_ch1.wav'\n",
    "        y, sr = torchaudio.load(os.path.join(data_path, folder_name, file_name))\n",
    "        wav_full = julius.resample_frac(y, sr, 16000)[0]\n",
    "\n",
    "        with torch.no_grad():\n",
    "            for k in range(wav_full.shape[0] // (16000 * 10)):\n",
    "                wav = wav_full[i * 16000 * 10: (i + 1) * 16000 * 10]\n",
    "\n",
    "                wav = torch.tensor(wav).float()\n",
    "                wav = wav.view(1, 1, -1).repeat(1, 7, 1)\n",
    "                pred_cla = estimator(wav)\n",
    "                pred_cla_full.append(pred_cla)\n",
    "\n",
    "            pred_cla_full = torch.cat(pred_cla_full, -2).squeeze()\n",
    "            output = torch.sigmoid(pred_cla_full).detach().cpu().numpy()\n",
    "            output_zeroone = (output > 0.5).astype(int)\n",
    "        postprocessor = PostProcessor()\n",
    "        estimation = postprocessor.report(output_zeroone)\n",
    "#         print(estimation)                \n",
    "        sub_answer_list.append(estimation)\n",
    "    answer_list.append(sub_answer_list)\n"
   ]
  },
  {
   "cell_type": "code",
   "execution_count": 6,
   "metadata": {},
   "outputs": [],
   "source": [
    "out_str = answer_list_to_json(answer_list)                    \n"
   ]
  },
  {
   "cell_type": "code",
   "execution_count": 7,
   "metadata": {},
   "outputs": [
    {
     "name": "stdout",
     "output_type": "stream",
     "text": [
      "{\n",
      "    \"task2_answer\": [{\n",
      "        \"set_1\":[\n",
      "            {drone_1:[{\n",
      "                \"M\": [\"NONE\"],\n",
      "                \"W\": [\"00:00\",\"00:03\",\"00:13\",\"00:23\",\"00:33\",\"00:43\",\"00:53\",\"01:03\",\"01:13\",\"01:23\",\"01:33\",\"01:43\",\"01:53\",\"02:03\",\"02:13\",\"02:23\",\"02:33\",\"02:43\",\"02:53\",\"03:03\",\"03:13\",\"03:23\",\"03:33\",\"03:43\",\"03:53\"],\n",
      "                \"C\": [\"00:07\",\"00:17\",\"00:27\",\"00:37\",\"00:47\",\"00:57\",\"01:07\",\"01:17\",\"01:27\",\"01:37\",\"01:47\",\"01:57\",\"02:07\",\"02:17\",\"02:27\",\"02:37\",\"02:47\",\"02:57\",\"03:07\",\"03:17\",\"03:27\",\"03:37\",\"03:47\",\"03:58\"]}]},\n",
      "            {drone_2:[{\n",
      "                \"M\": [\"NONE\"],\n",
      "                \"W\": [\"00:03\",\"00:13\",\"00:23\",\"00:33\",\"00:43\",\"00:53\",\"01:03\",\"01:13\",\"01:23\",\"01:33\",\"01:43\",\"01:53\",\"02:03\",\"02:13\",\"02:23\",\"02:33\",\"02:43\",\"02:53\",\"03:03\",\"03:13\",\"03:23\",\"03:33\",\"03:43\",\"03:53\"],\n",
      "                \"C\": [\"00:07\",\"00:17\",\"00:27\",\"00:37\",\"00:47\",\"00:57\",\"01:07\",\"01:17\",\"01:27\",\"01:37\",\"01:47\",\"01:57\",\"02:07\",\"02:17\",\"02:27\",\"02:37\",\"02:47\",\"02:57\",\"03:07\",\"03:17\",\"03:27\",\"03:37\",\"03:47\",\"03:58\"]}]},\n",
      "            {drone_3:[{\n",
      "                \"M\": [\"NONE\"],\n",
      "                \"W\": [\"00:03\",\"00:13\",\"00:23\",\"00:33\",\"00:43\",\"00:53\",\"01:03\",\"01:13\",\"01:23\",\"01:33\",\"01:43\",\"01:53\",\"02:03\",\"02:13\",\"02:23\",\"02:33\",\"02:43\",\"02:53\",\"03:03\",\"03:13\",\"03:23\",\"03:33\",\"03:43\",\"03:53\"],\n",
      "                \"C\": [\"00:07\",\"00:17\",\"00:27\",\"00:37\",\"00:47\",\"00:57\",\"01:07\",\"01:17\",\"01:27\",\"01:37\",\"01:47\",\"01:57\",\"02:07\",\"02:17\",\"02:27\",\"02:37\",\"02:47\",\"02:57\",\"03:07\",\"03:17\",\"03:27\",\"03:37\",\"03:47\",\"03:58\"]}]}],\n",
      "        \"set_2\":[\n",
      "            {drone_1:[{\n",
      "                \"M\": [\"NONE\"],\n",
      "                \"W\": [\"00:08\",\"00:18\",\"00:28\",\"00:38\",\"00:48\",\"00:58\",\"01:08\",\"01:18\",\"01:28\",\"01:38\",\"01:48\",\"01:58\",\"02:08\",\"02:18\",\"02:28\",\"02:38\",\"02:48\",\"02:58\",\"03:08\",\"03:18\"],\n",
      "                \"C\": [\"00:05\",\"00:11\",\"00:15\",\"00:21\",\"00:25\",\"00:31\",\"00:35\",\"00:41\",\"00:45\",\"00:51\",\"00:55\",\"01:01\",\"01:05\",\"01:11\",\"01:15\",\"01:21\",\"01:25\",\"01:31\",\"01:35\",\"01:41\",\"01:45\",\"01:51\",\"01:55\",\"02:01\",\"02:05\",\"02:11\",\"02:15\",\"02:21\",\"02:25\",\"02:31\",\"02:35\",\"02:41\",\"02:45\",\"02:51\",\"02:55\",\"03:01\",\"03:05\",\"03:11\",\"03:15\"]}]},\n",
      "            {drone_2:[{\n",
      "                \"M\": [\"NONE\"],\n",
      "                \"W\": [\"00:08\",\"00:18\",\"00:28\",\"00:38\",\"00:48\",\"00:58\",\"01:08\",\"01:18\",\"01:28\",\"01:38\",\"01:48\",\"01:58\",\"02:08\",\"02:18\",\"02:28\",\"02:38\",\"02:48\",\"02:58\",\"03:08\",\"03:18\"],\n",
      "                \"C\": [\"00:01\",\"00:05\",\"00:11\",\"00:15\",\"00:21\",\"00:25\",\"00:31\",\"00:35\",\"00:41\",\"00:45\",\"00:51\",\"00:55\",\"01:01\",\"01:05\",\"01:11\",\"01:15\",\"01:21\",\"01:25\",\"01:31\",\"01:35\",\"01:41\",\"01:45\",\"01:51\",\"01:55\",\"02:01\",\"02:05\",\"02:11\",\"02:15\",\"02:21\",\"02:25\",\"02:31\",\"02:35\",\"02:41\",\"02:45\",\"02:51\",\"02:55\",\"03:01\",\"03:05\",\"03:11\",\"03:15\"]}]},\n",
      "            {drone_3:[{\n",
      "                \"M\": [\"NONE\"],\n",
      "                \"W\": [\"00:08\",\"00:18\",\"00:28\",\"00:38\",\"00:48\",\"00:58\",\"01:08\",\"01:18\",\"01:28\",\"01:38\",\"01:48\",\"01:58\",\"02:08\",\"02:18\",\"02:28\",\"02:38\",\"02:48\",\"02:58\",\"03:08\",\"03:18\"],\n",
      "                \"C\": [\"00:01\",\"00:05\",\"00:11\",\"00:15\",\"00:21\",\"00:25\",\"00:31\",\"00:35\",\"00:41\",\"00:45\",\"00:51\",\"00:55\",\"01:01\",\"01:05\",\"01:11\",\"01:15\",\"01:21\",\"01:25\",\"01:31\",\"01:35\",\"01:41\",\"01:45\",\"01:51\",\"01:55\",\"02:01\",\"02:05\",\"02:11\",\"02:15\",\"02:21\",\"02:25\",\"02:31\",\"02:35\",\"02:41\",\"02:45\",\"02:51\",\"02:55\",\"03:01\",\"03:05\",\"03:11\",\"03:15\"]}]}],\n",
      "        \"set_3\":[\n",
      "            {drone_1:[{\n",
      "                \"M\": [\"NONE\"],\n",
      "                \"W\": [\"02:10\"],\n",
      "                \"C\": [\"NONE\"]}]},\n",
      "            {drone_2:[{\n",
      "                \"M\": [\"NONE\"],\n",
      "                \"W\": [\"02:10\"],\n",
      "                \"C\": [\"NONE\"]}]},\n",
      "            {drone_3:[{\n",
      "                \"M\": [\"NONE\"],\n",
      "                \"W\": [\"02:10\"],\n",
      "                \"C\": [\"NONE\"]}]}],\n",
      "        \"set_4\":[\n",
      "            {drone_1:[{\n",
      "                \"M\": [\"NONE\"],\n",
      "                \"W\": [\"00:05\",\"00:13\",\"00:23\",\"00:33\",\"00:43\",\"00:53\",\"01:03\",\"01:13\",\"01:23\",\"01:33\",\"01:43\",\"01:53\",\"02:03\",\"02:13\",\"02:23\",\"02:33\",\"02:43\",\"02:53\",\"03:03\",\"03:13\",\"03:23\",\"03:33\",\"03:43\",\"03:53\",\"04:03\",\"04:13\",\"04:19\"],\n",
      "                \"C\": [\"NONE\"]}]},\n",
      "            {drone_2:[{\n",
      "                \"M\": [\"NONE\"],\n",
      "                \"W\": [\"00:04\",\"00:13\",\"00:23\",\"00:33\",\"00:43\",\"00:53\",\"01:03\",\"01:13\",\"01:23\",\"01:33\",\"01:43\",\"01:53\",\"02:03\",\"02:13\",\"02:23\",\"02:33\",\"02:43\",\"02:53\",\"03:03\",\"03:13\",\"03:23\",\"03:33\",\"03:43\",\"03:53\",\"04:03\",\"04:13\",\"04:19\"],\n",
      "                \"C\": [\"NONE\"]}]},\n",
      "            {drone_3:[{\n",
      "                \"M\": [\"NONE\"],\n",
      "                \"W\": [\"00:04\",\"00:13\",\"00:23\",\"00:33\",\"00:43\",\"00:53\",\"01:03\",\"01:13\",\"01:23\",\"01:33\",\"01:43\",\"01:53\",\"02:03\",\"02:13\",\"02:23\",\"02:33\",\"02:43\",\"02:53\",\"03:03\",\"03:13\",\"03:23\",\"03:33\",\"03:43\",\"03:53\",\"04:03\",\"04:13\",\"04:19\"],\n",
      "                \"C\": [\"NONE\"]}]}],\n",
      "        \"set_5\":[\n",
      "            {drone_1:[{\n",
      "                \"M\": [\"NONE\"],\n",
      "                \"W\": [\"00:06\",\"00:16\",\"00:26\",\"00:36\",\"00:46\",\"00:56\",\"01:06\",\"01:16\",\"01:26\",\"01:36\",\"01:46\",\"01:56\",\"02:06\",\"02:16\",\"02:26\",\"02:36\",\"02:46\",\"02:56\",\"03:06\",\"03:16\",\"03:26\",\"03:36\",\"03:46\",\"03:56\",\"04:06\",\"04:16\"],\n",
      "                \"C\": [\"NONE\"]}]},\n",
      "            {drone_2:[{\n",
      "                \"M\": [\"NONE\"],\n",
      "                \"W\": [\"00:06\",\"00:16\",\"00:26\",\"00:36\",\"00:46\",\"00:56\",\"01:06\",\"01:16\",\"01:26\",\"01:36\",\"01:46\",\"01:56\",\"02:06\",\"02:16\",\"02:26\",\"02:36\",\"02:46\",\"02:56\",\"03:06\",\"03:16\",\"03:26\",\"03:36\",\"03:46\",\"03:56\",\"04:06\",\"04:16\"],\n",
      "                \"C\": [\"NONE\"]}]},\n",
      "            {drone_3:[{\n",
      "                \"M\": [\"NONE\"],\n",
      "                \"W\": [\"00:06\",\"00:16\",\"00:26\",\"00:36\",\"00:46\",\"00:56\",\"01:06\",\"01:16\",\"01:26\",\"01:36\",\"01:46\",\"01:56\",\"02:06\",\"02:16\",\"02:26\",\"02:36\",\"02:46\",\"02:56\",\"03:06\",\"03:16\",\"03:26\",\"03:36\",\"03:46\",\"03:56\",\"04:06\",\"04:16\"],\n",
      "                \"C\": [\"NONE\"]}]}]\n",
      "    }]\n",
      "}\n"
     ]
    }
   ],
   "source": [
    "print(out_str)"
   ]
  },
  {
   "cell_type": "code",
   "execution_count": 8,
   "metadata": {},
   "outputs": [],
   "source": [
    "gt_list_for_samples = [   # gt_list for sample video (1 set, 3 drone, 3 class)\n",
    "                    [\n",
    "                        [[[210, 214], [217, 220]], [[222, 226]], [[74, 79], [225, 231]]],\n",
    "                        [[[168, 172], [183, 186]], [[175, 179]], [[164, 169]]],\n",
    "                        [[[213, 216], [220, 224]], [[214, 218]], [[226, 231]]],\n",
    "                    ],\n",
    "                    [\n",
    "                        [[[210, 214], [217, 220]], [[222, 226]], [[74, 79], [225, 231]]],\n",
    "                        [[[168, 172], [183, 186]], [[175, 179]], [[164, 169]]],\n",
    "                        [[[213, 216], [220, 224]], [[214, 218]], [[226, 231]]],\n",
    "                    ],\n",
    "                    [\n",
    "                        [[[210, 214], [217, 220]], [[222, 226]], [[74, 79], [225, 231]]],\n",
    "                        [[[168, 172], [183, 186]], [[175, 179]], [[164, 169]]],\n",
    "                        [[[213, 216], [220, 224]], [[214, 218]], [[226, 231]]],\n",
    "                    ],\n",
    "                    [\n",
    "                        [[[210, 214], [217, 220]], [[222, 226]], [[74, 79], [225, 231]]],\n",
    "                        [[[168, 172], [183, 186]], [[175, 179]], [[164, 169]]],\n",
    "                        [[[213, 216], [220, 224]], [[214, 218]], [[226, 231]]],\n",
    "                    ],\n",
    "                    [\n",
    "                        [[[210, 214], [217, 220]], [[222, 226]], [[74, 79], [225, 231]]],\n",
    "                        [[[168, 172], [183, 186]], [[175, 179]], [[164, 169]]],\n",
    "                        [[[213, 216], [220, 224]], [[214, 218]], [[226, 231]]],\n",
    "                    ],                                                                                                \n",
    "        ]"
   ]
  },
  {
   "cell_type": "code",
   "execution_count": 26,
   "metadata": {},
   "outputs": [],
   "source": [
    "def cw_metrics_cal(gt, pred):\n",
    "    correct = 0\n",
    "    deletion = 0\n",
    "    insertion = 0\n",
    "    include_list = []\n",
    "    for ii in range(len(gt)):\n",
    "        is_include = 0\n",
    "        if gt[ii][0] == None:\n",
    "            if pred[0] == None:\n",
    "                correct += 1\n",
    "        else:\n",
    "            if pred[0] == None:\n",
    "                deletion += 1\n",
    "            else:\n",
    "                gt_start, gt_end = gt[ii][0], gt[ii][1]\n",
    "                for jj in range(len(pred)):\n",
    "                    if gt_start <= pred[jj] and pred[jj] <= gt_end:\n",
    "                        include_list.append(pred[jj])\n",
    "                        is_include += 1\n",
    "                if is_include == 0:\n",
    "                    deletion += 1\n",
    "                elif is_include > 1:\n",
    "                    insertion = is_include - 1\n",
    "                elif is_include == 1:\n",
    "                    correct += 1\n",
    "    substitution = len(pred) - len(list(set(include_list)))\n",
    "#     print('s, d, i, correct:', substitution, deletion, insertion, correct)\n",
    "    return substitution, deletion, insertion, correct\n",
    "\n",
    "\n",
    "def evaluation(gt_list, answer_list):\n",
    "    set_num = len(gt_list)\n",
    "    total_s, total_d, total_i, total_n, total_correct = 0, 0, 0, 0, 0\n",
    "    for i in range(set_num):\n",
    "        sw_s, sw_d, sw_i, sw_n, sw_correct = 0, 0, 0, 0, 0\n",
    "        for j in range(3): # for drones 1 ~ 3\n",
    "            dw_s, dw_d, dw_i, dw_n, dw_correct = 0, 0, 0, 0, 0\n",
    "            for k in range(3): # for class man, woman, child\n",
    "                cw_s, cw_d, cw_i, cw_correct = cw_metrics_cal(gt_list[i][j][k], answer_list[i][j][k])\n",
    "                dw_s += cw_s\n",
    "                dw_d += cw_d\n",
    "                dw_i += cw_i\n",
    "                dw_n += len(gt_list[i][j][k])\n",
    "                dw_correct += cw_correct\n",
    "            dw_er = (dw_s + dw_d + dw_i) / dw_n\n",
    "            print('Set', str(i), 'Drone', str(j), 's, d, i, er, correct:', dw_s, dw_d, dw_i, np.round(dw_er, 2), dw_correct)\n",
    "            sw_s += dw_s\n",
    "            sw_d += dw_d\n",
    "            sw_i += dw_i\n",
    "            sw_n += dw_n\n",
    "            sw_er = (sw_s + sw_d + sw_i) / sw_n\n",
    "            sw_correct += dw_correct\n",
    "        total_s += sw_s\n",
    "        total_d += sw_d\n",
    "        total_i += sw_i\n",
    "        total_n += sw_n\n",
    "        total_er = (total_s + total_d + total_i) / total_n\n",
    "        total_correct += sw_correct\n",
    "        print('Subtotal Set', str(i), 's, d, i, er, correct:', sw_s, sw_d, sw_i, np.round(sw_er, 2), sw_correct)\n",
    "    print('Total', 's, d, i, er, correct:', total_s, total_d, total_i, np.round(total_er, 2), total_correct)\n",
    "    return total_s, total_d, total_i, total_er, total_correct\n"
   ]
  },
  {
   "cell_type": "code",
   "execution_count": 27,
   "metadata": {},
   "outputs": [
    {
     "name": "stdout",
     "output_type": "stream",
     "text": [
      "Set 0 Drone 0 s, d, i, er, correct: 47 2 0 9.8 3\n",
      "Set 0 Drone 1 s, d, i, er, correct: 48 3 0 12.75 1\n",
      "Set 0 Drone 2 s, d, i, er, correct: 48 3 0 12.75 1\n",
      "Subtotal Set 0 s, d, i, er, correct: 143 8 0 11.62 5\n",
      "Set 1 Drone 0 s, d, i, er, correct: 59 4 0 12.6 1\n",
      "Set 1 Drone 1 s, d, i, er, correct: 59 2 0 15.25 2\n",
      "Set 1 Drone 2 s, d, i, er, correct: 61 4 0 16.25 0\n",
      "Subtotal Set 1 s, d, i, er, correct: 179 10 0 14.54 3\n",
      "Set 2 Drone 0 s, d, i, er, correct: 3 5 0 1.6 0\n",
      "Set 2 Drone 1 s, d, i, er, correct: 3 4 0 1.75 0\n",
      "Set 2 Drone 2 s, d, i, er, correct: 3 4 0 1.75 0\n",
      "Subtotal Set 2 s, d, i, er, correct: 9 13 0 1.69 0\n",
      "Set 3 Drone 0 s, d, i, er, correct: 28 4 0 6.4 1\n",
      "Set 3 Drone 1 s, d, i, er, correct: 29 4 0 8.25 0\n",
      "Set 3 Drone 2 s, d, i, er, correct: 29 4 0 8.25 0\n",
      "Subtotal Set 3 s, d, i, er, correct: 86 12 0 7.54 1\n",
      "Set 4 Drone 0 s, d, i, er, correct: 27 4 0 6.2 1\n",
      "Set 4 Drone 1 s, d, i, er, correct: 27 3 0 7.5 1\n",
      "Set 4 Drone 2 s, d, i, er, correct: 27 3 0 7.5 1\n",
      "Subtotal Set 4 s, d, i, er, correct: 81 10 0 7.0 3\n",
      "Total s, d, i, er, correct: 498 53 0 8.48 12\n"
     ]
    },
    {
     "data": {
      "text/plain": [
       "(498, 53, 0, 8.476923076923077, 12)"
      ]
     },
     "execution_count": 27,
     "metadata": {},
     "output_type": "execute_result"
    }
   ],
   "source": [
    "evaluation(gt_list_for_samples, answer_list)\n"
   ]
  },
  {
   "cell_type": "code",
   "execution_count": 19,
   "metadata": {},
   "outputs": [
    {
     "data": {
      "text/plain": [
       "True"
      ]
     },
     "execution_count": 19,
     "metadata": {},
     "output_type": "execute_result"
    }
   ],
   "source": [
    "answer_list[0][0][0][0] == None"
   ]
  },
  {
   "cell_type": "code",
   "execution_count": null,
   "metadata": {},
   "outputs": [],
   "source": []
  }
 ],
 "metadata": {
  "kernelspec": {
   "display_name": "Python 3",
   "language": "python",
   "name": "python3"
  },
  "language_info": {
   "codemirror_mode": {
    "name": "ipython",
    "version": 3
   },
   "file_extension": ".py",
   "mimetype": "text/x-python",
   "name": "python",
   "nbconvert_exporter": "python",
   "pygments_lexer": "ipython3",
   "version": "3.7.7"
  }
 },
 "nbformat": 4,
 "nbformat_minor": 4
}
